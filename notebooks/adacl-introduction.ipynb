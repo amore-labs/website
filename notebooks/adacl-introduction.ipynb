{
  "cells": [
    {
      "cell_type": "raw",
      "id": "10496657",
      "metadata": {
        "vscode": {
          "languageId": "raw"
        }
      },
      "source": [
        "---\n",
        "title: Adaptive Continual Learning\n",
        "topic: Method\n",
        "venue: ContinualAI Unconference 2023\n",
        "author: Elif Ceren Gok Yildirim\n",
        "date: 2025-06-01\n",
        "format:\n",
        "  html:\n",
        "    code-fold: false\n",
        "image: adacl/teaser.webp\n",
        "preview: We introduce AdaCL, a new method that optimally adapts continual learning hyperparameters to every new task.\n",
        "---"
      ]
    },
    {
      "cell_type": "markdown",
      "id": "ba6b4a92",
      "metadata": {
        "id": "ba6b4a92"
      },
      "source": [
        "# AdaCL: Adaptive Continual Learning\n",
        "Elif Ceren Gok Yildirim, Murat Onur Yildirim, Mert Kilickaya, Joaquin Vanschoren"
      ]
    },
    {
      "cell_type": "markdown",
      "id": "3f869362",
      "metadata": {
        "id": "3f869362"
      },
      "source": [
        "## Understanding Continual Learning and the Catastrophic Forgetting\n",
        "In the rapidly evolving field of machine learning, one challenge remains particularly persistent: the ability to continually learn new information without forgetting previously acquired knowledge. This forgetting problem is generally referred to in the field as “catastrophic forgetting”. Catastrophic forgetting occurs because, while models are learning new tasks, they lose the ability to recall information about previously learned tasks. This happens because the model's parameters are updated to fit the new data, which can overwrite the representations of the old data."
      ]
    },
    {
      "cell_type": "markdown",
      "id": "468290f0",
      "metadata": {
        "id": "468290f0"
      },
      "source": [
        "## Understanding Class-Incremental Learning\n",
        "Class-Incremental Learning is one challenging scenario in CL which aims to update a model's parameters and expand the classification layer to learn new categories while maintaining its accuracy on previously observed classes. Then during the test time, it assumes not to have access to task ids."
      ]
    },
    {
      "cell_type": "markdown",
      "id": "7fdffed8",
      "metadata": {
        "id": "7fdffed8"
      },
      "source": [
        "## Solutions for solving Catastrophic Forgetting\n",
        "Three major approaches have been explored to mitigate this issue:\n",
        "\n",
        "- **Regularization-based Methods:** These techniques prevent abrupt shifts in the neural network weights by applying penalties that stabilize important parameters.\n",
        "- **Replay-based Methods:** These involve storing a subset of training data and replaying it during the learning of new tasks to maintain previous knowledge.\n",
        "- **Architecture-based Methods:** These methods adapt the network structure, either by expanding it or isolating parts of it to retain past information.\n"
      ]
    },
    {
      "cell_type": "markdown",
      "id": "f52c6854",
      "metadata": {
        "id": "f52c6854"
      },
      "source": [
        "## Motivation for AdaCL\n",
        "\n",
        "All these CL methods bring additional hyperparameters to the learning process. For example: **regularization strength**, **learning rate**, **memory size**, etc. Current methods define these hyperparameters to a fixed value and assume that using the same hyperparameter setting will be sufficient for learning all different subsequent tasks. However, this approach does not reflect a realistic scenario. We can imagine 2 realistic scenarios:\n",
        "\n",
        "##High Plasticity- Low Stability:\n",
        "Let's say you have learned large animal categories and now you will have to learn vehicle categories. In this case, you would go for mid-to low **regularization strength** to learn the new categories. In addition to that, you might want to store many exemplars from the large animal category in the memory buffer because you will probably forget that since the vehicle category will change the model's parameters a lot."
      ]
    },
    {
      "cell_type": "markdown",
      "id": "8p_KYaikWS9L",
      "metadata": {
        "id": "8p_KYaikWS9L"
      },
      "source": [
        "<div style=\"text-align:center;\">\n",
        "<img src=\"../images/blogs/adacl/adaclexample.webp\" alt=\"motivation for adacl\" style=\"width:30%;\"/>\n",
        "</div>"
      ]
    },
    {
      "cell_type": "markdown",
      "id": "4e144b57",
      "metadata": {
        "id": "4e144b57"
      },
      "source": [
        "## High Stability - Low Plasticity:\n",
        "\n",
        "This time you have learned small vehicle categories and now you will have to learn large vehicle categories. In this case, you would think that these two subsequent tasks are intuitively similar so you don't need to lower **regularization strength** because with high regularization, model weights will not change too much and current weights will probably be sufficient to learn the large vehicle category. Also, you might not want to store many exemplars from small vehicle categories because you did not change the model's weights too much and you don't want to use your budget unnecessarily."
      ]
    },
    {
      "cell_type": "markdown",
      "id": "444f8136",
      "metadata": {
        "id": "444f8136"
      },
      "source": [
        "## Introducing AdaCL\n",
        "AdaCL (Adaptive Continual Learning) introduces a novel approach where learning rate, regularization, and memory size are treated as dynamic, tunable variables. Instead of being fixed, these parameters adapt according to the learner’s current condition and the complexity of the task.\n",
        "\n",
        "**But how to find optimum hyperparameter values?**\n",
        "\n",
        "**Search Algorithm =** Tree Parzen Estimators\n",
        "\n",
        "**Validation set =** some amount of data from the current task + some amount of data from previous tasks.\n",
        "\n",
        "To achieve this, we use an AutoML tool which is Optuna and as a search algorithm, we apply Bayesian Optimization Tree Parzen Estimators. AdaCL searches and predicts the optimal values for these hyperparameters by evaluating the model's performance on the validation set.\n"
      ]
    },
    {
      "cell_type": "markdown",
      "id": "FQFIqSQqYEaA",
      "metadata": {
        "id": "FQFIqSQqYEaA"
      },
      "source": [
        "<div style=\"text-align:center;\">\n",
        "<img src=\"../images/blogs/adacl/adacl.webp\" alt=\"flow of adacl\" style=\"width:75%;\"/>\n",
        "</div>"
      ]
    },
    {
      "cell_type": "markdown",
      "id": "GHEyRbWtYYzi",
      "metadata": {
        "id": "GHEyRbWtYYzi"
      },
      "source": [
        "## Experimental Setup\n",
        "Our experiments utilized two well-known datasets: **CIFAR100** and **MiniImageNet**. Each dataset contains images from 100 different categories, and we trained all models with 10 tasks, with each task containing 10 classes. Standard metrics for evaluation were used:\n",
        "\n",
        "**Accuracy (ACC)** measures the final accuracy averaged over all tasks.\n",
        "\n",
        "**Backward Transfer (BWT)** measures the average accuracy change of each task after learning new tasks.\n",
        "\n",
        "We compared AdaCL with various baseline methods including EWC, LwF, iCaRL, and WA but the **GOOD NEWS is: it is a plugged-in approach** that means you can actually combine it with other methods that require better hyperparameter setting in CL."
      ]
    },
    {
      "cell_type": "markdown",
      "id": "9-MiJ-FxYx_J",
      "metadata": {
        "id": "9-MiJ-FxYx_J"
      },
      "source": [
        "## Results\n",
        "**Key Findings:**\n",
        "\n",
        "\n",
        "1.   AdaCL boosts the performance of regularization-based methods.\n",
        "2.   AdaCL yields better resource usage by leading to less memory size with the same performance.\n"
      ]
    },
    {
      "cell_type": "markdown",
      "id": "5tiV2ScKZKAk",
      "metadata": {
        "id": "5tiV2ScKZKAk"
      },
      "source": [
        "<div style=\"text-align:center;\">\n",
        "<img src=\"../images/blogs/adacl/table.webp\" alt=\"main results\" style=\"width:75%;\"/>\n",
        "</div>"
      ]
    },
    {
      "cell_type": "markdown",
      "id": "uUsMcGFkZWnP",
      "metadata": {
        "id": "uUsMcGFkZWnP"
      },
      "source": [
        "## Conclusion\n",
        "AdaCL treats crucial hyperparameters as adaptable, addressing the challenges of CIL more effectively than traditional fixed-parameter approaches. We aim to underscore the importance of flexible, dynamic adaptation in the CL scenario. For those interested in further details, the full paper provides an in-depth analysis of the methods, experimental setup, and results. [Read the full paper here.](https://proceedings.mlr.press/v249/yildirim24a.html)"
      ]
    },
    {
      "cell_type": "markdown",
      "id": "378fb05e",
      "metadata": {
        "id": "378fb05e"
      },
      "source": [
        "---\n",
        "This post was written by Elif Ceren Gok Yildirim and need not reflect the view of co-authors."
      ]
    }
  ],
  "metadata": {
    "colab": {
      "provenance": []
    },
    "kernelspec": {
      "display_name": "Python 3",
      "language": "python",
      "name": "python3"
    },
    "language_info": {
      "codemirror_mode": {
        "name": "ipython",
        "version": 3
      },
      "file_extension": ".py",
      "mimetype": "text/x-python",
      "name": "python",
      "nbconvert_exporter": "python",
      "pygments_lexer": "ipython3",
      "version": "3.8.8"
    }
  },
  "nbformat": 4,
  "nbformat_minor": 5
}
