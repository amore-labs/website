{
  "cells": [
    {
      "cell_type": "raw",
      "id": "10496657",
      "metadata": {
        "vscode": {
          "languageId": "raw"
        }
      },
      "source": [
        "---\n",
        "title: Continual Learning with Informative Samples An Empirical Evaluation of Coreset Strategies\n",
        "topic: Analysis\n",
        "author: Elif Ceren Gok Yildirim\n",
        "date: 2025-06-04\n",
        "format:\n",
        "  html:\n",
        "    code-fold: false\n",
        "image: datadiet/datadietcl.webp\n",
        "preview: A blogpost based on our paper \"Continual Learning with Informative Samples An Empirical Evaluation of Coreset Strategies\" showing how continual learning can benefit from training with coreset samples.\n",
        "---"
      ]
    },
    {
      "cell_type": "markdown",
      "id": "ba6b4a92",
      "metadata": {
        "id": "ba6b4a92"
      },
      "source": [
        "# Continual Learning with Informative Samples: An Empirical Evaluation of Coreset Strategies\n",
        "[Elif Ceren Gok Yildirim](https://elifcerengokyildirim.github.io/), [Murat Onur Yildirim](https://muratonuryildirim.github.io/), [Joaquin Vanschoren](https://joaquinvanschoren.github.io/home/)"
      ]
    },
    {
      "cell_type": "markdown",
      "id": "3f869362",
      "metadata": {
        "id": "3f869362"
      },
      "source": [
        "## Background\n",
        "Continual Learning (CL) aims to enable models to learn sequentially from streaming data, retaining previously acquired knowledge while adapting to new tasks, a duality known as the **stability-plasticity** balance. This balance is critical for mimicking human-like learning, where accumulated knowledge is preserved (stability) yet flexibly updated with novel experiences (plasticity). There is big line of research that focus on achieving better stability-plasticity tradeoff by building and proposing new methods to literature."
      ]
    },
    {
      "cell_type": "markdown",
      "id": "468290f0",
      "metadata": {
        "id": "468290f0"
      },
      "source": [
        "## Motivation\n",
        "While these methods improve performance, they share a common assumption: all training samples are equally valuable and must be exhaustively utilized. By default, this standardized practice prioritizes plasticity (integrating new information) at the risk of destabilizing learned representations, as redundant or noisy samples may overwrite critical prior knowledge. This ”learn-it-all” paradigm diverges from human learning efficiency since, as humans, we are initially exposed to vast amounts of information but intuitively filter and prioritize them, focusing on key experiences (e.g. clear and novel examples) that enrich our understanding while disregarding redundant details."
      ]
    },
    {
      "cell_type": "markdown",
      "id": "5701bf90",
      "metadata": {},
      "source": [
        "<div style=\"text-align:center;\">\n",
        "<img src=\"../images/blogs/datadiet/datadietcl.webp\" alt=\"flow of datadietcl\" style=\"width:75%;\"/>\n",
        "</div>"
      ]
    },
    {
      "cell_type": "markdown",
      "id": "7fdffed8",
      "metadata": {
        "id": "7fdffed8"
      },
      "source": [
        "## The Overall Game Plan\n",
        "In our approach, we put traditional CL methods to the test by comparing their performance when trained on the full dataset versus when they're trained on a carefully selected, informative subset of samples (coreset).\n",
        "\n",
        "We structured our training into two distinct phases:\n",
        "\n",
        "- **Warm-Up Phase:** The CL model undergoes initial, partial training. This phase is key because it lets us analyze the model's behavior and data representations, which in turn helps us pick out the most informative samples.\n",
        "\n",
        "- **Learning Phase:** Once the warm-up is complete, we switch to training on just the selected subset of samples. This phase is much longer and is where the model truly refines its knowledge.\n",
        "\n",
        "Note that the warm-up phase is generally much shorter than the learning phase since it's only long enough for the model to \"warm up\" and provide the insights needed for effective sample selection."
      ]
    },
    {
      "cell_type": "markdown",
      "id": "f52c6854",
      "metadata": {
        "id": "f52c6854"
      },
      "source": [
        "## CL Baselines\n",
        "\n",
        "Below is a quick comparison of the CL baselines we used in our work:\n",
        "\n",
        "| Architecture-based | Memory-based | Regularization-based |\n",
        "|--------------------|--------------|-----------------------|\n",
        "| DER, FOSTER, MEMO  | iCaRL, ER    | LwF                   |\n",
        "| Dynamically expands the model's representation space by adding new features for new tasks. | Holds a memory buffer from previous tasks and keeps learning from them along with new tasks. | Regularizes the model's parameters when learning new tasks to retain previously acquired knowledge. |\n"
      ]
    },
    {
      "cell_type": "markdown",
      "id": "4e144b57",
      "metadata": {
        "id": "4e144b57"
      },
      "source": [
        "## Coreset Baselines\n",
        "\n",
        "Below is a quick comparison of the Coreset baselines we used in our work:"
      ]
    },
    {
      "cell_type": "markdown",
      "id": "b9336478",
      "metadata": {},
      "source": [
        "<div style=\"text-align:center;\">\n",
        "<img src=\"../images/blogs/datadiet/coreset.webp\" alt=\"flow of datadietcl\" style=\"width:75%;\"/>\n",
        "</div>"
      ]
    },
    {
      "cell_type": "markdown",
      "id": "444f8136",
      "metadata": {
        "id": "444f8136"
      },
      "source": [
        "## Findings and Insights\n",
        "We observed a significant improvement in continual learning performance when training with **coreset samples** instead of full datasets. We found out that this enhancement comes from achieving optimal **stability-plasticity tradeoff**.\n",
        "\n",
        "While training with all samples often boosts performance on the current task, it tends to forget earlier tasks. In contrast, using a selective subset (coreset) of samples helps retain prior knowledge better, even if it sacrifices on current task performance.\n",
        "\n",
        "The heatmap below illustrates **accuracy across tasks after each learning session** on Split-CIFAR10. It compares full-sample training with the best-performing coreset strategy.\n"
      ]
    },
    {
      "cell_type": "markdown",
      "id": "FQFIqSQqYEaA",
      "metadata": {
        "id": "FQFIqSQqYEaA"
      },
      "source": [
        "<div style=\"text-align:center;\">\n",
        "<img src=\"../images/blogs/datadiet/heatmap.webp\" alt=\"flow of adacl\" style=\"width:55%;\"/>\n",
        "</div>"
      ]
    },
    {
      "cell_type": "markdown",
      "id": "048424e6",
      "metadata": {},
      "source": [
        "As seen in the figure, **coreset training reduces forgetting**, preserving earlier knowledge more effectively."
      ]
    },
    {
      "cell_type": "markdown",
      "id": "GHEyRbWtYYzi",
      "metadata": {
        "id": "GHEyRbWtYYzi"
      },
      "source": [
        "## Why Does It Work: A Look Into Representations\n",
        "To better understand *why* this happens, we visualized the learned feature space using t-SNE plots of DER’s representations on Split-CIFAR10."
      ]
    },
    {
      "cell_type": "markdown",
      "id": "c5ec6270",
      "metadata": {},
      "source": [
        "<div style=\"text-align:center;\">\n",
        "<img src=\"../images/blogs/datadiet/tsne.webp\" alt=\"flow of adacl\" style=\"width:75%;\"/>\n",
        "</div>"
      ]
    },
    {
      "cell_type": "markdown",
      "id": "293f078f",
      "metadata": {},
      "source": [
        "With **20%** of the data, coreset-trained models form **well-separated class clusters**, suggesting clearer, less entangled representations.\n",
        "\n",
        "As we increased the coreset fraction to **80%**, and then to the full dataset, the class clusters became **less distinct**:\n",
        "\n",
        "We also quantified this observation by calculating **inter-class distances** in the t-SNE-embedded space:\n",
        "\n",
        "- **20% coreset:** 11.68\n",
        "- **80% coreset:** 10.71\n",
        "- **Full dataset:** 10.67\n",
        "\n",
        "This confirms our visual findings: **more data does not always lead to better representations or ensure better learning**. Sometimes, it blurs the boundaries between classes, increasing the risk of forgetting past tasks specially in CL."
      ]
    },
    {
      "cell_type": "markdown",
      "id": "9-MiJ-FxYx_J",
      "metadata": {
        "id": "9-MiJ-FxYx_J"
      },
      "source": [
        "## When Coresets Don't Help\n",
        "While coreset-based training improves many CL methods, there are notable exceptions. Methods like **FOSTER** and **LwF** (which relies solely on regularization) perform better when trained with the full dataset. These approaches seem to require the complete data distribution to operate effectively.\n",
        "\n",
        "We provide detailed insights and analysis for these exceptions in the full paper, including possible explanations and ablation studies.\n",
        "\n",
        "Since I don't want to bore you with nitty-gritty details, I invite you to check out [our paper](https://arxiv.org/pdf/2410.17715). We would be happy if you want to talk about this work, so please feel free to reach out to us 😊."
      ]
    },
    {
      "cell_type": "markdown",
      "id": "378fb05e",
      "metadata": {
        "id": "378fb05e"
      },
      "source": [
        "---\n",
        "This post was written by Elif Ceren Gok Yildirim and need not reflect the view of co-authors."
      ]
    }
  ],
  "metadata": {
    "colab": {
      "provenance": []
    },
    "kernelspec": {
      "display_name": "Python 3",
      "language": "python",
      "name": "python3"
    },
    "language_info": {
      "codemirror_mode": {
        "name": "ipython",
        "version": 3
      },
      "file_extension": ".py",
      "mimetype": "text/x-python",
      "name": "python",
      "nbconvert_exporter": "python",
      "pygments_lexer": "ipython3",
      "version": "3.8.8"
    }
  },
  "nbformat": 4,
  "nbformat_minor": 5
}
