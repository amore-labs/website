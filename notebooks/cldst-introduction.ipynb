{
 "cells": [
  {
   "cell_type": "raw",
   "id": "8ac4aa4c",
   "metadata": {
    "vscode": {
     "languageId": "raw"
    }
   },
   "source": [
    "---\n",
    "title: Continual Learning with Dynamic Sparse Training\n",
    "topic: Analysis\n",
    "venue: CPAL 2024\n",
    "author: Murat Onur Yildirim\n",
    "date: 2025-06-04\n",
    "format:\n",
    "  html:\n",
    "    code-fold: false\n",
    "image: cldst/brain.webp \n",
    "preview: We show how sparse training helps us learn much faster while forgetting less. Based on our CPAL paper \"Continual Learning with Dynamic Sparse Training\".\n",
    "---"
   ]
  },
  {
   "cell_type": "markdown",
   "id": "ba6b4a92",
   "metadata": {},
   "source": [
    "# Continual Learning with Dynamic Sparse Training: Exploring Algorithms for Effective Model Updates\n",
    "[Murat Onur Yildirim](https://muratonuryildirim.github.io/), [Elif Ceren Gok Yildirim](https://elifcerengokyildirim.github.io/), [Ghada Sokar](https://scholar.google.nl/citations?user=0e6fdZsAAAAJ&hl=en), [Decebal Constantin Mocanu](https://scholar.google.nl/citations?user=RlQgUwEAAAAJ&hl=en), [Joaquin Vanschoren](https://joaquinvanschoren.github.io/home/)."
   ]
  },
  {
   "cell_type": "markdown",
   "id": "75786042",
   "metadata": {},
   "source": [
    "**TL;DR:** This blog post dives into our recent paper \"Continual Learning with Dynamic Sparse Training: Exploring Algorithms for Effective Model Updates\" (📄 [Paper](https://proceedings.mlr.press/v234/yildirim24a.html), 🤖 [Code](https://github.com/muratonuryildirim/CL-with-DST)) published in CPAL 2024. We explore how Continual Learning can benefit from Dynamic Sparse Training, a process that closely mirrors the brain’s ability to constantly rewire and optimize its connections. Read on for a brief overview of our key findings 😊\n",
    "\n",
    "---\n"
   ]
  },
  {
   "cell_type": "markdown",
   "id": "7e9caf7b",
   "metadata": {},
   "source": [
    "Hey there!\n",
    "\n",
    "Have you ever wondered how our brains learn new skills without forgetting the old ones? Imagine learning a new language while still chatting away in your native tongue, or watching yourself grow from crawling to walking, running, and even biking—all while never losing that ability to crawl! It's truly fascinating, and yet, teaching our deep learning models to do the same remains an exciting challenge."
   ]
  },
  {
   "cell_type": "markdown",
   "id": "3f869362",
   "metadata": {},
   "source": [
    "## The Challenge: Catastrophic Forgetting\n",
    "Traditional neural networks tend to overwrite older information when learning new tasks, which isn’t very brain-like at all. This major hurdle is called catastrophic forgetting. Imagine if every time you learned a new recipe, you suddenly couldn’t remember your grandma’s secret and delicious recipe anymore!  That’s where continual learning (CL) steps in—allowing models to learn from a stream of data without letting past knowledge vanish into thin air."
   ]
  },
  {
   "cell_type": "markdown",
   "id": "1e8d80f9",
   "metadata": {},
   "source": [
    "<div style=\"text-align:center;\">\n",
    "<img src=\"../images/blogs/cldst/grandma_recipe.webp\" alt=\"Grandma serving cookies.\" style=\"width:33%;\"/>\n",
    "</div>"
   ]
  },
  {
   "cell_type": "markdown",
   "id": "468290f0",
   "metadata": {},
   "source": [
    "## Neuroscience: Nature’s Blueprint\n",
    "In neuroscience, it’s well known that our brain is always under a change and on the move! Our synaptic connections are constantly being reshaped or kept steady based on what we experience—a delightful dance of plasticity and stability that fuels our lifelong ability to learn and adapt. Picture your brain as a vibrant, ever-changing city where new pathways light up and old ones evolve based on your experiences."
   ]
  },
  {
   "attachments": {},
   "cell_type": "markdown",
   "id": "7fdffed8",
   "metadata": {},
   "source": [
    "## A Smart Way to Build a Brain\n",
    "To mimic this amazing ability, a technique called Dynamic Sparse Training (DST) offers an artificial version of the plasticity and the stability, ensuring that our neural networks remain both efficient and adaptable over time. Imagine starting with an overparameterized network, like a bustling metropolis with way more roads than you actually need. But instead of keeping all these roads open, DST acts as an ingenious city planner: it decides which roads to close down (prune) and which new ones to build (regrow) so that traffic flows optimally—all while staying within a fixed budget.\n",
    "\n",
    "#### Step 1: The Beginning with Initialization\n",
    "We kick things off by initializing our network using one of two methods:\n",
    "- Uniform Initialization: Every layer gets an equal share of connections, kind of like giving every neighborhood the same number of streets.\n",
    "- Erdős-Rényi Kernel (ERK) Initialization: Instead of treating all layers equally, ERK smartly allocates more connections to the “busy” areas (the layers with more parameters) and fewer to the “quiet” ones. This is a bit like investing more in the main highways that keep the city moving.\n",
    "\t\t\n",
    "#### Step 2: Training, Pruning, and Regrowing\n",
    "After some initial training, the network doesn’t just sit idle but actively refines itself. Here’s how it works:\n",
    "- **Pruning:** Based on the magnitude of the weights, the network prunes away a fixed number (which can be scheduled) of the least important connections. Think of it as cutting off the rarely used, winding side streets to save resources.\n",
    "- **Regrowth:** To maintain the same overall sparsity level for each task, the network then regrows exactly same amount of connections. And guess what? There are three main approaches to choose which connections to regrow:\n",
    "    - *Random*: Sometimes, a bit of randomness helps explore new possibilities, like testing out an unexpected shortcut.\n",
    "    - *Unfired*: Alternatively, the model can explore the connections that is never tried or checked before.\n",
    "    - *Gradient-based*: Finally, it can look at the gradient or momentum signals that indicate which potential connections could boost performance—and regrow those most promising ones.\n",
    "\t\t\t\n",
    "#### Step 3: Sharing is Caring\n",
    "What’s truly fascinating in this approach is that, even though the network is carving out different “subnetworks” for each new task, it also allows for sharing connections between tasks. This means that if two tasks are similar, they can use the same neural “road,” which enhances knowledge sharing and makes learning even more efficient. It’s like having a communal library where everyone benefits from the same resources!"
   ]
  },
  {
   "cell_type": "markdown",
   "id": "bb446d9c",
   "metadata": {},
   "source": [
    "<div style=\"text-align:center;\">\n",
    "<img src=\"../images/blogs/cldst/brain.webp\" alt=\"Our brain is always under a change, tends to wire neurons that needs to work or fire together.\" style=\"width:75%;\"/>\n",
    "</div>"
   ]
  },
  {
   "cell_type": "markdown",
   "id": "f52c6854",
   "metadata": {},
   "source": [
    "## Continual Learning: The Ultimate Test\n",
    "\n",
    "Now, combine DST with Continual Learning (CL)—a setup where a single network learns a series of tasks over time without forgetting earlier ones, just like how you can learn to cook a new recipes without forgetting grandma's special.\n",
    "\n",
    "Traditionally, many systems tackle each new task with a separate network or by keeping extra data around. But here, DST is applied to one overparameterized network that evolves over time. As new tasks come along, the network dynamically adjusts itself by pruning away unused connections and regrowing new ones, while allowing to share common connections to build on past knowledge."
   ]
  },
  {
   "cell_type": "markdown",
   "id": "4e144b57",
   "metadata": {},
   "source": [
    "## A Technical Snapshot\n",
    "\n",
    "For those of you who love the technical nitty-gritty, here’s a quick summary of the key findings from our study:\n",
    "- **Initialization Matters:**\n",
    "At low to moderate sparsity levels (around 80–90%), the ERK initialization leverages the network’s capacity more efficiently by assigning fewer connections to narrow layers. This helps in learning incremental tasks effectively. At higher sparsities, ERK still doing its job when the right growth strategy is selected.\n",
    "- **Growth Strategy Dynamics:**\n",
    "The choice of growth strategy is closely tied to the initialization and the degree of sparsity. While gradient-based and momentum-based growth methods excel at high sparsity by carefully selecting promising connections, random growth performs competitively at lower sparsity levels where there’s less room for exploration.\n",
    "- **Adaptive Approaches are Promising:**\n",
    "There’s no one-size-fits-all DST setup. Even a simple adaptive strategy that switches between growth methods (like using random growth initially and shifting to gradient-based growth later) can boost performance compared to sticking with a fixed strategy.\n",
    "- **Shared Connections Enhance Knowledge Transfer:**\n",
    "Allowing the network to share connections between tasks not only saves resources but also boosts overall learning by transferring knowledge from previous tasks, much like how our brains reuse familiar circuits when learning something new."
   ]
  },
  {
   "cell_type": "markdown",
   "id": "092d7186",
   "metadata": {},
   "source": [
    "<div style=\"text-align:center;\">\n",
    "<img src=\"../images/blogs/cldst/result.webp\" alt=\"ERK is a preffered way of initialization, growth depends on the initialization, and adaptivity helps.\" style=\"width:70%;\"/>\n",
    "</div>"
   ]
  },
  {
   "cell_type": "markdown",
   "id": "444f8136",
   "metadata": {},
   "source": [
    "## Bringing All Together and Wrapping It Up\n",
    "\n",
    "By starting with a clever initialization, then iteratively pruning and regrowing a fixed number of connections based on weight magnitude and gradient signals, DST transforms a single, overparameterized network into a versatile, continually learning powerhouse. And the cherry on top? Allowing subnetworks to share connections across different tasks means that the network not only learns continuously but also builds upon past knowledge, much like our own brains do.\n",
    "\n",
    "In this study, we dive deep into the various ways to run DST in a continual learning setup, offering both technical insights and inspiration for future research. We believe it is a beautiful blend of neuroscience and engineering—a step closer to creating AI that learns and adapts just like we do. Again, if you want to know more, you can check the [paper](https://proceedings.mlr.press/v234/yildirim24a.html) 😊\n",
    "\n",
    "Stay curious, keep exploring, and let’s continue pushing the boundaries of what intelligent systems can achieve! 🧠🚀\n"
   ]
  },
  {
   "cell_type": "markdown",
   "id": "378fb05e",
   "metadata": {},
   "source": [
    "---\n",
    "This post was written by Murat Onur Yildirim and need not reflect the view of co-authors."
   ]
  }
 ],
 "metadata": {
  "kernelspec": {
   "display_name": "Python 3",
   "language": "python",
   "name": "python3"
  },
  "language_info": {
   "codemirror_mode": {
    "name": "ipython",
    "version": 3
   },
   "file_extension": ".py",
   "mimetype": "text/x-python",
   "name": "python",
   "nbconvert_exporter": "python",
   "pygments_lexer": "ipython3",
   "version": "3.8.8"
  }
 },
 "nbformat": 4,
 "nbformat_minor": 5
}
